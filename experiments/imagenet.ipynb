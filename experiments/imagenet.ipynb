{
 "cells": [
  {
   "cell_type": "code",
   "execution_count": 1,
   "metadata": {},
   "outputs": [
    {
     "data": {
      "application/vnd.jupyter.widget-view+json": {
       "model_id": "eccbbb2b57c348a19cd63847e12b2ae2",
       "version_major": 2,
       "version_minor": 0
      },
      "text/plain": [
       "Downloading metadata:   0%|          | 0.00/3.52k [00:00<?, ?B/s]"
      ]
     },
     "metadata": {},
     "output_type": "display_data"
    },
    {
     "data": {
      "application/vnd.jupyter.widget-view+json": {
       "model_id": "875bde34349240d6a2c6a066666b1646",
       "version_major": 2,
       "version_minor": 0
      },
      "text/plain": [
       "Downloading data files:   0%|          | 0/2 [00:00<?, ?it/s]"
      ]
     },
     "metadata": {},
     "output_type": "display_data"
    },
    {
     "data": {
      "application/vnd.jupyter.widget-view+json": {
       "model_id": "8b9c9c955a204c289a4fa7aec862821f",
       "version_major": 2,
       "version_minor": 0
      },
      "text/plain": [
       "Extracting data files:   0%|          | 0/2 [00:00<?, ?it/s]"
      ]
     },
     "metadata": {},
     "output_type": "display_data"
    },
    {
     "data": {
      "application/vnd.jupyter.widget-view+json": {
       "model_id": "8e19b71ee41f4e119cbaf22c3f0d6357",
       "version_major": 2,
       "version_minor": 0
      },
      "text/plain": [
       "Generating train split:   0%|          | 0/100000 [00:00<?, ? examples/s]"
      ]
     },
     "metadata": {},
     "output_type": "display_data"
    },
    {
     "data": {
      "application/vnd.jupyter.widget-view+json": {
       "model_id": "6aa5764e24d64897af640ee270234c17",
       "version_major": 2,
       "version_minor": 0
      },
      "text/plain": [
       "Generating valid split:   0%|          | 0/10000 [00:00<?, ? examples/s]"
      ]
     },
     "metadata": {},
     "output_type": "display_data"
    },
    {
     "data": {
      "text/plain": [
       "Dataset({\n",
       "    features: ['image', 'label'],\n",
       "    num_rows: 100000\n",
       "})"
      ]
     },
     "execution_count": 1,
     "metadata": {},
     "output_type": "execute_result"
    }
   ],
   "source": [
    "from datasets import load_dataset, Image\n",
    "import tensorflow as tf\n",
    "import numpy as np\n",
    "\n",
    "\n",
    "# load cifar\n",
    "tiny_imagenet = load_dataset('Maysee/tiny-imagenet', split='train')\n",
    "\n",
    "tiny_imagenet"
   ]
  },
  {
   "cell_type": "code",
   "execution_count": 4,
   "metadata": {},
   "outputs": [
    {
     "data": {
      "image/png": "[encoded data removed]",
      "text/plain": [
       "<PIL.JpegImagePlugin.JpegImageFile image mode=RGB size=64x64>"
      ]
     },
     "execution_count": 4,
     "metadata": {},
     "output_type": "execute_result"
    }
   ],
   "source": [
    "tiny_imagenet[0][\"image\"]"
   ]
  },
  {
   "cell_type": "code",
   "execution_count": 9,
   "metadata": {},
   "outputs": [],
   "source": [
    "df = tiny_imagenet.with_format(\"tf\")"
   ]
  },
  {
   "cell_type": "code",
   "execution_count": 11,
   "metadata": {},
   "outputs": [
    {
     "data": {
      "text/plain": [
       "{'image': <tf.Tensor: shape=(64, 64, 3), dtype=uint8, numpy=\n",
       " array([[[255, 136, 193],\n",
       "         [255, 138, 192],\n",
       "         [249, 146, 199],\n",
       "         ...,\n",
       "         [208, 237, 235],\n",
       "         [209, 241, 240],\n",
       "         [127, 163, 161]],\n",
       " \n",
       "        [[255, 126, 189],\n",
       "         [254, 128, 189],\n",
       "         [246, 137, 194],\n",
       "         ...,\n",
       "         [205, 231, 230],\n",
       "         [202, 234, 231],\n",
       "         [123, 159, 155]],\n",
       " \n",
       "        [[255, 126, 201],\n",
       "         [255, 129, 201],\n",
       "         [255, 135, 203],\n",
       "         ...,\n",
       "         [207, 233, 230],\n",
       "         [202, 234, 229],\n",
       "         [120, 155, 149]],\n",
       " \n",
       "        ...,\n",
       " \n",
       "        [[ 95, 122,  71],\n",
       "         [ 93, 119,  71],\n",
       "         [ 93, 116,  70],\n",
       "         ...,\n",
       "         [ 85,  74,  56],\n",
       "         [ 78,  67,  49],\n",
       "         [ 94,  83,  65]],\n",
       " \n",
       "        [[ 89, 117,  66],\n",
       "         [ 89, 115,  67],\n",
       "         [ 89, 112,  66],\n",
       "         ...,\n",
       "         [ 86,  75,  57],\n",
       "         [ 77,  66,  48],\n",
       "         [ 87,  76,  58]],\n",
       " \n",
       "        [[ 91, 119,  68],\n",
       "         [ 91, 119,  70],\n",
       "         [ 93, 116,  70],\n",
       "         ...,\n",
       "         [ 96,  85,  67],\n",
       "         [ 77,  66,  48],\n",
       "         [ 72,  61,  43]]], dtype=uint8)>,\n",
       " 'label': <tf.Tensor: shape=(), dtype=int64, numpy=0>}"
      ]
     },
     "execution_count": 11,
     "metadata": {},
     "output_type": "execute_result"
    }
   ],
   "source": []
  },
  {
   "cell_type": "code",
   "execution_count": null,
   "metadata": {},
   "outputs": [],
   "source": []
  }
 ],
 "metadata": {
  "kernelspec": {
   "display_name": "base",
   "language": "python",
   "name": "python3"
  },
  "language_info": {
   "codemirror_mode": {
    "name": "ipython",
    "version": 3
   },
   "file_extension": ".py",
   "mimetype": "text/x-python",
   "name": "python",
   "nbconvert_exporter": "python",
   "pygments_lexer": "ipython3",
   "version": "3.10.13"
  }
 },
 "nbformat": 4,
 "nbformat_minor": 2
}
